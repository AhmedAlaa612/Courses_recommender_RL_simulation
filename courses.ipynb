{
 "cells": [
  {
   "cell_type": "code",
   "execution_count": 58,
   "id": "b40106a1",
   "metadata": {},
   "outputs": [],
   "source": [
    "import numpy as np \n",
    "import networkx as nx\n"
   ]
  },
  {
   "cell_type": "markdown",
   "id": "5529920f",
   "metadata": {},
   "source": [
    "## extract courses list with deepseek OCR \n",
    "\n",
    "### prompt:\n",
    "\"extract the courses list from the provided pdf in the form \n",
    "'{id, name, prerequistes = [id1, id2, id3]}'\n",
    "\""
   ]
  },
  {
   "cell_type": "code",
   "execution_count": 59,
   "id": "be240e03",
   "metadata": {},
   "outputs": [],
   "source": [
    "courses = [\n",
    "    # First Level - Semester 1\n",
    "    {\"id\": \"02-24-00101\", \"name\": \"Linear Algebra\", \"prerequisites\": []},\n",
    "    {\"id\": \"02-24-00102\", \"name\": \"Calculus\", \"prerequisites\": []},\n",
    "    {\"id\": \"02-24-00103\", \"name\": \"Introduction to Computer Systems\", \"prerequisites\": []},\n",
    "    {\"id\": \"02-24-00104\", \"name\": \"Introduction to Data Sciences\", \"prerequisites\": []},\n",
    "    {\"id\": \"02-24-00105\", \"name\": \"Programming I\", \"prerequisites\": []},\n",
    "    # {\"id\": \"0200000XX\", \"name\": \"Critical Thinking\", \"prerequisites\": []},\n",
    "    \n",
    "    # First Level - Semester 2\n",
    "    {\"id\": \"02-24-00106\", \"name\": \"Probability and Statistics I\", \"prerequisites\": []},\n",
    "    {\"id\": \"02-24-00107\", \"name\": \"Discrete Structures\", \"prerequisites\": []},\n",
    "    {\"id\": \"02-24-00108\", \"name\": \"Data Structures and Algorithms\", \"prerequisites\": [\"02-24-00105\"]},\n",
    "    {\"id\": \"02-24-00109\", \"name\": \"Introduction to Artificial Intelligence\", \"prerequisites\": [\"02-24-00103\"]},\n",
    "    {\"id\": \"02-24-00110\", \"name\": \"Programming II\", \"prerequisites\": [\"02-24-00105\"]},\n",
    "    # {\"id\": \"0200000XX\", \"name\": \"Innovation & Entrepreneurship\", \"prerequisites\": []},\n",
    "    \n",
    "    # Second Level - Semester 3\n",
    "    {\"id\": \"02-24-00201\", \"name\": \"Probability and Statistics II\", \"prerequisites\": [\"02-24-00106\"]},\n",
    "    {\"id\": \"02-24-00202\", \"name\": \"Introduction to Databases\", \"prerequisites\": [\"02-24-00105\"]},\n",
    "    {\"id\": \"02-24-00203\", \"name\": \"Numerical Computations\", \"prerequisites\": [\"02-24-00101\"]},\n",
    "    {\"id\": \"02-24-01201\", \"name\": \"Advanced Calculus\", \"prerequisites\": [\"02-24-00102\"]},\n",
    "    {\"id\": \"02-24-01202\", \"name\": \"Data Science Methodology\", \"prerequisites\": [\"02-24-00104\"]},\n",
    "    # {\"id\": \"02-0X-000XX\", \"name\": \"University Elective\", \"prerequisites\": []},\n",
    "    \n",
    "    # Second Level - Semester 4\n",
    "    {\"id\": \"02-24-00204\", \"name\": \"Cloud Computing\", \"prerequisites\": [\"02-24-00108\"]},\n",
    "    {\"id\": \"02-24-00205\", \"name\": \"Machine Learning\", \"prerequisites\": [\"02-24-00109\"]},\n",
    "    {\"id\": \"02-24-00206\", \"name\": \"Data Mining and Analytics\", \"prerequisites\": [\"02-24-00201\"]},\n",
    "    {\"id\": \"02-24-01203\", \"name\": \"Data Science Tools and Software\", \"prerequisites\": [\"02-24-00105\", \"02-24-00201\", \"02-24-01202\"]},\n",
    "    {\"id\": \"02-24-01204\", \"name\": \"Regression Analysis\", \"prerequisites\": [\"02-24-00201\"]},\n",
    "    # {\"id\": \"02-0X-000XX\", \"name\": \"University Elective\", \"prerequisites\": []},\n",
    "    # {\"id\": \"02-24-01205\", \"name\": \"Field Training I\", \"prerequisites\": []},\n",
    "    \n",
    "    # Third Level - Semester 5\n",
    "    {\"id\": \"02-24-01301\", \"name\": \"Stochastic Processes\", \"prerequisites\": [\"02-24-00101\", \"02-24-00201\"]},\n",
    "    {\"id\": \"02-24-01302\", \"name\": \"Design and Analysis of Experiments\", \"prerequisites\": [\"02-24-00201\"]},\n",
    "    {\"id\": \"02-24-01303\", \"name\": \"Data Visualization Tools\", \"prerequisites\": [\"02-24-01202\", \"02-24-01203\"]},\n",
    "    # {\"id\": \"02-24-0X0XX\", \"name\": \"Faculty Elective\", \"prerequisites\": []},\n",
    "    # {\"id\": \"02-0X-000XX\", \"name\": \"University Elective\", \"prerequisites\": []},\n",
    "    \n",
    "    # Third Level - Semester 6\n",
    "    {\"id\": \"02-24-01304\", \"name\": \"Data Computation and Analysis\", \"prerequisites\": [\"02-24-00205\", \"02-24-00206\"]},\n",
    "    {\"id\": \"02-24-01305\", \"name\": \"Survey Methodology\", \"prerequisites\": [\"02-24-00201\"]},\n",
    "    {\"id\": \"02-24-01306\", \"name\": \"Computing Intensive Statistical Methods\", \"prerequisites\": [\"02-24-00201\"]},\n",
    "    # {\"id\": \"02-24-01307\", \"name\": \"Field Training II\", \"prerequisites\": []},\n",
    "    \n",
    "    # Fourth Level - Semester 7\n",
    "    {\"id\": \"02-24-01401\", \"name\": \"Big Data Analytics\", \"prerequisites\": [\"02-24-00105\", \"02-24-00205\", \"02-24-00206\"]},\n",
    "    {\"id\": \"02-24-01402\", \"name\": \"Introduction to Social Networks\", \"prerequisites\": [\"02-24-00201\"]},\n",
    "    {\"id\": \"02-24-01403\", \"name\": \"Simulations\", \"prerequisites\": [\"02-24-00105\", \"02-24-00106\"]},\n",
    "    # {\"id\": \"02-24-01404\", \"name\": \"Project I\", \"prerequisites\": []},\n",
    "    # {\"id\": \"02-24-014XX\", \"name\": \"Program Elective\", \"prerequisites\": []},\n",
    "    # {\"id\": \"02-0X-000XX\", \"name\": \"University Elective\", \"prerequisites\": []},\n",
    "    \n",
    "    # Fourth Level - Semester 8\n",
    "    {\"id\": \"02-24-01405\", \"name\": \"Social Data Analytics\", \"prerequisites\": [\"02-24-00101\", \"02-24-00201\", \"02-24-00205\", \"02-24-01402\"]},\n",
    "    {\"id\": \"02-24-01406\", \"name\": \"Distributed Data Analysis\", \"prerequisites\": [\"02-24-00202\", \"02-24-00204\", \"02-24-00206\"]},\n",
    "    {\"id\": \"02-24-01407\", \"name\": \"Stream Processing\", \"prerequisites\": [\"02-24-00108\", \"02-24-00206\"]},\n",
    "    # {\"id\": \"02-24-01408\", \"name\": \"Project II\", \"prerequisites\": []},\n",
    "    \n",
    "    # Program Electives\n",
    "    {\"id\": \"02-24-01409\", \"name\": \"Convex Optimization\", \"prerequisites\": [\"02-24-00101\", \"02-24-00203\", \"02-24-01201\"], \"elective\": \"program\"},\n",
    "    {\"id\": \"02-24-01410\", \"name\": \"Non-Linear and Combinatorial Optimization\", \"prerequisites\": [\"02-24-00101\", \"02-24-00108\"], \"elective\": \"program\"},\n",
    "    {\"id\": \"02-24-01411\", \"name\": \"Multivariate Statistical Analysis\", \"prerequisites\": [\"02-24-00201\"], \"elective\": \"program\"},\n",
    "    {\"id\": \"02-24-01412\", \"name\": \"Bayesian Statistics\", \"prerequisites\": [\"02-24-00201\"], \"elective\": \"program\"},\n",
    "    {\"id\": \"02-24-01413\", \"name\": \"Data Compression Techniques\", \"prerequisites\": [\"02-24-00108\"], \"elective\": \"program\"},\n",
    "    {\"id\": \"02-24-01414\", \"name\": \"Concurrent Algorithms and Data Structures\", \"prerequisites\": [\"02-24-00108\"], \"elective\": \"program\"},\n",
    "    {\"id\": \"02-24-01415\", \"name\": \"Distributed Database Systems\", \"prerequisites\": [\"02-24-00202\"], \"elective\": \"program\"},\n",
    "    {\"id\": \"02-24-01416\", \"name\": \"Advanced Database Systems\", \"prerequisites\": [\"02-24-00202\"], \"elective\": \"program\"},\n",
    "    \n",
    "    # Faculty Electives\n",
    "    {\"id\": \"02-24-00301\", \"name\": \"Software Engineering\", \"prerequisites\": [\"02-24-00110\"], \"elective\": \"faculty\"},\n",
    "    {\"id\": \"02-24-00302\", \"name\": \"Systems Analysis and Design\", \"prerequisites\": [], \"elective\": \"faculty\"},\n",
    "    {\"id\": \"02-24-00303\", \"name\": \"Algorithm Design\", \"prerequisites\": [\"02-24-00108\"], \"elective\": \"faculty\"},\n",
    "    {\"id\": \"02-24-00304\", \"name\": \"Distributed Processing\", \"prerequisites\": [\"02-24-00103\", \"02-24-00108\"], \"elective\": \"faculty\"},\n",
    "    {\"id\": \"02-24-00305\", \"name\": \"Mobile Programming\", \"prerequisites\": [\"02-24-00105\"], \"elective\": \"faculty\"},\n",
    "    {\"id\": \"02-24-00306\", \"name\": \"Web Programming\", \"prerequisites\": [\"02-24-00105\"], \"elective\": \"faculty\"},\n",
    "    {\"id\": \"02-24-00307\", \"name\": \"Operating Systems\", \"prerequisites\": [\"02-24-00103\", \"02-24-00105\"], \"elective\": \"faculty\"},\n",
    "    {\"id\": \"02-24-00308\", \"name\": \"Computer Networks\", \"prerequisites\": [\"02-24-00103\", \"02-24-00105\"], \"elective\": \"faculty\"},\n",
    "    \n",
    "]"
   ]
  },
  {
   "cell_type": "markdown",
   "id": "103c0c8b",
   "metadata": {},
   "source": [
    "#### added feature \"elective\" for electives with value 'faculty' or 'program' and removed 2-credit-hour courses for simplification rn"
   ]
  },
  {
   "cell_type": "markdown",
   "id": "b11f2a51",
   "metadata": {},
   "source": [
    "## building the graph network"
   ]
  },
  {
   "cell_type": "code",
   "execution_count": 60,
   "id": "9da01674",
   "metadata": {},
   "outputs": [],
   "source": [
    "g = nx.DiGraph()\n",
    "\n",
    "for course in courses:\n",
    "    g.add_node(course[\"id\"], name=course[\"name\"])\n",
    "    for prereq in course[\"prerequisites\"]:\n",
    "        g.add_edge(prereq, course[\"id\"])\n"
   ]
  },
  {
   "cell_type": "code",
   "execution_count": 61,
   "id": "b7cfc2f5",
   "metadata": {},
   "outputs": [
    {
     "data": {
      "text/plain": [
       "(48, 48)"
      ]
     },
     "execution_count": 61,
     "metadata": {},
     "output_type": "execute_result"
    }
   ],
   "source": [
    "# testing\n",
    "assert g.number_of_nodes() == len(courses)\n",
    "len(g.nodes), len(courses)"
   ]
  },
  {
   "cell_type": "markdown",
   "id": "4261fbbb",
   "metadata": {},
   "source": [
    "## Save the Graph"
   ]
  },
  {
   "cell_type": "code",
   "execution_count": null,
   "id": "59c99539",
   "metadata": {},
   "outputs": [],
   "source": [
    "\n",
    "nx.write_graphml(g, \"courses.graphml\")"
   ]
  },
  {
   "cell_type": "code",
   "execution_count": null,
   "id": "b3ddf78a",
   "metadata": {},
   "outputs": [],
   "source": [
    "from pyvis.network import Network\n",
    "nt = Network(height=\"750px\", width=\"100%\", directed=True)\n",
    "nt.from_nx(g)\n",
    "nt.save_graph(\"courses.html\")"
   ]
  },
  {
   "cell_type": "code",
   "execution_count": null,
   "id": "c07297ba",
   "metadata": {},
   "outputs": [],
   "source": []
  }
 ],
 "metadata": {
  "kernelspec": {
   "display_name": "myenv",
   "language": "python",
   "name": "python3"
  },
  "language_info": {
   "codemirror_mode": {
    "name": "ipython",
    "version": 3
   },
   "file_extension": ".py",
   "mimetype": "text/x-python",
   "name": "python",
   "nbconvert_exporter": "python",
   "pygments_lexer": "ipython3",
   "version": "3.11.9"
  }
 },
 "nbformat": 4,
 "nbformat_minor": 5
}
