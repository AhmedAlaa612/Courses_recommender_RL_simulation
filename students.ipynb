{
 "cells": [
  {
   "cell_type": "code",
   "execution_count": 39,
   "id": "77d51f1c",
   "metadata": {},
   "outputs": [],
   "source": [
    "import networkx as nx\n",
    "import random\n",
    "import numpy as np\n",
    "import pandas as pd"
   ]
  },
  {
   "cell_type": "markdown",
   "id": "c8abfd79",
   "metadata": {},
   "source": [
    "student \n",
    " - > passed courses\n",
    " - > grades\n",
    " - > gpa\n",
    " - > interests\n",
    " - > semester\n",
    " \n",
    " -> passed_courses ['id'], grades{'id': grade} (if grade == F then failed), gpa, interests\n",
    " \n",
    "constrains \n",
    "- > 3-5 courses per semester\n",
    "- > must complete prereq before taking a course\n",
    "- > retake failed courses\n",
    "\n",
    "\n"
   ]
  },
  {
   "cell_type": "code",
   "execution_count": 40,
   "id": "b09ceb72",
   "metadata": {},
   "outputs": [],
   "source": [
    "courses = nx.read_graphml(\"courses.graphml\")"
   ]
  },
  {
   "cell_type": "code",
   "execution_count": 45,
   "id": "3f5b6313",
   "metadata": {},
   "outputs": [],
   "source": [
    "def get_gpa(grades):\n",
    "    \"\"\"Calculate GPA from a list of grades.\"\"\"\n",
    "    if not grades:\n",
    "        return 0.0\n",
    "    total_points = sum(grade * 3 for grade in grades)  # all grades are 3-credit hours\n",
    "    return total_points / (3 * len(grades))\n",
    "\n",
    "def get_open_courses(courses, student_courses):\n",
    "    \"\"\"Returns a list of open courses that a student can take.\"\"\"\n",
    "    open_courses = []\n",
    "    for course_id in courses.nodes():\n",
    "        if course_id in student_courses:\n",
    "            continue \n",
    "        prerequisites = list(courses.predecessors(course_id))\n",
    "        if all(prereq in student_courses for prereq in prerequisites):\n",
    "            open_courses.append(course_id)\n",
    "            \n",
    "    return open_courses\n",
    "\n",
    "def generate_students(n, courses):\n",
    "    \"\"\"Generate a list of students with random courses and GPA.\"\"\"\n",
    "    students = []\n",
    "    interests = ['Data', 'AI', 'Software']\n",
    "    for i in range(n):\n",
    "        semester = random.randint(1, 7)\n",
    "        min_courses, max_courses = (3*semester, 5*semester)\n",
    "        num_courses = random.randint(min_courses, max_courses)\n",
    "        passed = []\n",
    "        grades = []\n",
    "        for _ in range(num_courses):\n",
    "            c = random.choice(get_open_courses(courses, passed))\n",
    "            grade = int(np.random.choice([0,1,2,3,4], p=[0.1,0.2,0.2,0.3,0.2])) # F, D, C, B, A\n",
    "            if grade != 0:\n",
    "                passed.append(c)\n",
    "            grades.append({'id': c, 'grade': grade})\n",
    "        gpa = float(get_gpa([grade['grade'] for grade in grades]))\n",
    "        students.append({\n",
    "            'id': f'{i+1}',\n",
    "            'semester': semester,\n",
    "            'courses': passed,\n",
    "            'grades': grades,\n",
    "            'gpa': gpa,\n",
    "            'interests': random.sample(interests, k=random.randint(1, len(interests)))\n",
    "        })\n",
    "    return students\n"
   ]
  },
  {
   "cell_type": "code",
   "execution_count": 46,
   "id": "76bad325",
   "metadata": {},
   "outputs": [],
   "source": [
    "# simulate 100 students\n",
    "students = generate_students(100, courses)"
   ]
  },
  {
   "cell_type": "code",
   "execution_count": 44,
   "id": "2b156689",
   "metadata": {},
   "outputs": [
    {
     "data": {
      "text/html": [
       "<div>\n",
       "<style scoped>\n",
       "    .dataframe tbody tr th:only-of-type {\n",
       "        vertical-align: middle;\n",
       "    }\n",
       "\n",
       "    .dataframe tbody tr th {\n",
       "        vertical-align: top;\n",
       "    }\n",
       "\n",
       "    .dataframe thead th {\n",
       "        text-align: right;\n",
       "    }\n",
       "</style>\n",
       "<table border=\"1\" class=\"dataframe\">\n",
       "  <thead>\n",
       "    <tr style=\"text-align: right;\">\n",
       "      <th></th>\n",
       "      <th>semester</th>\n",
       "      <th>gpa</th>\n",
       "    </tr>\n",
       "  </thead>\n",
       "  <tbody>\n",
       "    <tr>\n",
       "      <th>count</th>\n",
       "      <td>100.000000</td>\n",
       "      <td>100.000000</td>\n",
       "    </tr>\n",
       "    <tr>\n",
       "      <th>mean</th>\n",
       "      <td>3.860000</td>\n",
       "      <td>2.304015</td>\n",
       "    </tr>\n",
       "    <tr>\n",
       "      <th>std</th>\n",
       "      <td>1.853307</td>\n",
       "      <td>0.411369</td>\n",
       "    </tr>\n",
       "    <tr>\n",
       "      <th>min</th>\n",
       "      <td>1.000000</td>\n",
       "      <td>0.333333</td>\n",
       "    </tr>\n",
       "    <tr>\n",
       "      <th>25%</th>\n",
       "      <td>2.750000</td>\n",
       "      <td>2.062500</td>\n",
       "    </tr>\n",
       "    <tr>\n",
       "      <th>50%</th>\n",
       "      <td>4.000000</td>\n",
       "      <td>2.307692</td>\n",
       "    </tr>\n",
       "    <tr>\n",
       "      <th>75%</th>\n",
       "      <td>5.000000</td>\n",
       "      <td>2.500000</td>\n",
       "    </tr>\n",
       "    <tr>\n",
       "      <th>max</th>\n",
       "      <td>7.000000</td>\n",
       "      <td>3.500000</td>\n",
       "    </tr>\n",
       "  </tbody>\n",
       "</table>\n",
       "</div>"
      ],
      "text/plain": [
       "         semester         gpa\n",
       "count  100.000000  100.000000\n",
       "mean     3.860000    2.304015\n",
       "std      1.853307    0.411369\n",
       "min      1.000000    0.333333\n",
       "25%      2.750000    2.062500\n",
       "50%      4.000000    2.307692\n",
       "75%      5.000000    2.500000\n",
       "max      7.000000    3.500000"
      ]
     },
     "execution_count": 44,
     "metadata": {},
     "output_type": "execute_result"
    }
   ],
   "source": [
    "df = pd.DataFrame(students)\n",
    "df.describe()"
   ]
  },
  {
   "cell_type": "code",
   "execution_count": 47,
   "id": "c4828ea0",
   "metadata": {},
   "outputs": [],
   "source": [
    "import json\n",
    "with open('students.json', 'w') as f:\n",
    "    json.dump(students, f, indent=4)"
   ]
  },
  {
   "cell_type": "code",
   "execution_count": 28,
   "id": "d8ae8cb3",
   "metadata": {},
   "outputs": [],
   "source": [
    "df.to_csv(\"students.csv\", index=False)"
   ]
  }
 ],
 "metadata": {
  "kernelspec": {
   "display_name": "myenv",
   "language": "python",
   "name": "python3"
  },
  "language_info": {
   "codemirror_mode": {
    "name": "ipython",
    "version": 3
   },
   "file_extension": ".py",
   "mimetype": "text/x-python",
   "name": "python",
   "nbconvert_exporter": "python",
   "pygments_lexer": "ipython3",
   "version": "3.11.9"
  }
 },
 "nbformat": 4,
 "nbformat_minor": 5
}
